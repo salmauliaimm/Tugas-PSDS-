{
  "nbformat": 4,
  "nbformat_minor": 0,
  "metadata": {
    "colab": {
      "provenance": []
    },
    "kernelspec": {
      "name": "python3",
      "display_name": "Python 3"
    },
    "language_info": {
      "name": "python"
    }
  },
  "cells": [
    {
      "cell_type": "code",
      "execution_count": null,
      "metadata": {
        "id": "CXtJynYmzc1q"
      },
      "outputs": [],
      "source": []
    },
    {
      "cell_type": "markdown",
      "source": [
        "**FUNCTION**\n",
        "\n",
        "Function(fungsi) adalah sebuah blok statment yang hanya akan dijalankan saat iandipanggil. Fungsi len() untuk mengukur elemen dalam sebuah list dan fungsi print() untuk menampilkan pesan pada layar konsol merupakan contoh dari bentuk fungsi yang telah disediakan oleh bahasa pemrograman Python dengan kata lain buly_in functions. Selain fungsi yang telah disediakan oleh Python. Python mengizinkan untuk mendeklarasikan fungsi dalam kode yang dituliskan yang dikenal dengan user definied function"
      ],
      "metadata": {
        "id": "2aVzdWHd8HT5"
      }
    },
    {
      "cell_type": "code",
      "source": [
        "def nama_fungsi(argument):\n",
        "  statement_t\n",
        "\n",
        "  statement_n\n",
        "  return returned_value"
      ],
      "metadata": {
        "id": "UJhb0t-48OlZ"
      },
      "execution_count": 13,
      "outputs": []
    },
    {
      "cell_type": "markdown",
      "source": [
        "* nama_fungsi adalah untuk fungsi yang anda definisikan, memiliki aturan seperti penamaan variabel\n",
        "* argument adalah variabel masukan ke fungsi, biasa tanpa variabel, satu variabel atau lebih\n",
        "* statement_t..statement_n adalah algoritma yang telah anda transfer dalam bahasa python yang merupakan inti dari fungsi yang didefinisikan. Seluruh statement adalah menjorok (indent) ke dalam seperti yang pernah anda pelajari pada conditioning dan looping\n",
        "* return_value adalah variabel output dari fungsi anda, bisa tanpa variabel, satu variabel atau lebih\n",
        "\n",
        "Argumen dan Parameter\n",
        "\n",
        "* Parameter adalah variabel yang digunakan dalam deklarasi fungsi\n",
        "* Argumen adalah nilai yang diberikan saat pemanggilan fungsi"
      ],
      "metadata": {
        "id": "kQabjgzD8SAt"
      }
    },
    {
      "cell_type": "code",
      "source": [
        "def print_nama(nama): #'nama\" adalah parameter\n",
        "    print(nama)\n",
        "\n",
        "print_nama('Budi') #'Budi\" adalah argumen"
      ],
      "metadata": {
        "colab": {
          "base_uri": "https://localhost:8080/"
        },
        "id": "3QIAF2z18ftF",
        "outputId": "7d184aca-4c5b-4483-e6dd-ab2324896b18"
      },
      "execution_count": 14,
      "outputs": [
        {
          "metadata": {
            "tags": null
          },
          "name": "stdout",
          "output_type": "stream",
          "text": [
            "Budi\n"
          ]
        }
      ]
    },
    {
      "cell_type": "markdown",
      "source": [
        "Argumen posisi dan Kata kunci\n",
        "\n",
        "Kita bisa menyatakan argumen posisi atau kata kunci. Beberapa manfaat argumen kata kunci dapat berupa:\n",
        "\n",
        "*Kita dapat menyebut argumen dengan mereka untuk memperjelas apa yang mereka wakili\n",
        "*Kita dapat mengatur ulang argumen dengan cara membuatnya paling mudah dibaca"
      ],
      "metadata": {
        "id": "PmKtzs6M8iNA"
      }
    },
    {
      "cell_type": "code",
      "source": [
        "def angka(a, b,c):\n",
        "    print(a,b,c)\n",
        "\n",
        "#argumen posisi\n",
        "#argumen berdasarkan posisinya\n",
        "angka(1, 2, 3)\n",
        "\n",
        "#argumen berdasarkan kata kuncinya\n",
        "angka(a=1, b=2, c=3)\n",
        "angka(c=3, b=2, a=1)\n",
        "\n",
        "#catatan: jika sudah diberi kunci maka urutan tidak menjadi penting\n",
        "\n",
        "#campur antara argument posisi dan argumen kata kunci\n",
        "angka(1, b=2, c=3)\n",
        "\n",
        "#ini tidak diijinkan:\n",
        "#foo(1, b=2, 3) #argumen posisional setelah argumen kunci\n",
        "#foo(1, b=2, a=3) #argumen dua nilai untuk argumen kunci 'a'"
      ],
      "metadata": {
        "colab": {
          "base_uri": "https://localhost:8080/"
        },
        "id": "e77NE2FX8ndr",
        "outputId": "74e19cda-85af-4c71-a902-8d1da7fdecb3"
      },
      "execution_count": 15,
      "outputs": [
        {
          "output_type": "stream",
          "name": "stdout",
          "text": [
            "1 2 3\n",
            "1 2 3\n",
            "1 2 3\n",
            "1 2 3\n"
          ]
        }
      ]
    },
    {
      "cell_type": "markdown",
      "source": [
        "Argumen Default\n",
        "\n",
        "Fungsi dapat memiliki argumen default dengan nilai yang telah ditentukan sebelumnya. Argumen ini dapat ditinggalkan dan nilai default kemudian diteruskan ke fungsi, atau argumen dapat dirubah dengan nilai yang berbeda. Perhatikan bahwa argumen default harus ditentukan sebagai parameter terakhir dalam suatu fungsi."
      ],
      "metadata": {
        "id": "U4Ei7m4I8qxr"
      }
    },
    {
      "cell_type": "code",
      "source": [
        "#Argumen default\n",
        "def angka2(a, b, c, d=4):\n",
        "    print(a, b, c, d)\n",
        "\n",
        "angka2(1, 2, 3, 4)\n",
        "angka2(1, b=2, c=3, d=100)\n",
        "\n",
        "#argumen default harus diletakkan terakhir"
      ],
      "metadata": {
        "colab": {
          "base_uri": "https://localhost:8080/"
        },
        "id": "jQ9V0S648ta6",
        "outputId": "bdd7cda8-c377-4692-9d12-12fc21354677"
      },
      "execution_count": 16,
      "outputs": [
        {
          "output_type": "stream",
          "name": "stdout",
          "text": [
            "1 2 3 4\n",
            "1 2 3 100\n"
          ]
        }
      ]
    },
    {
      "cell_type": "code",
      "source": [
        "#Praktik membuat fungsi\n",
        "x = 1\n",
        "y = 2\n",
        "x*y"
      ],
      "metadata": {
        "colab": {
          "base_uri": "https://localhost:8080/"
        },
        "id": "d2uq-PDI8wlR",
        "outputId": "b68a9a0b-bef8-4ff4-9876-ab5bc9c253e6"
      },
      "execution_count": 17,
      "outputs": [
        {
          "output_type": "execute_result",
          "data": {
            "text/plain": [
              "2"
            ]
          },
          "metadata": {},
          "execution_count": 17
        }
      ]
    },
    {
      "cell_type": "code",
      "source": [
        "def penjumlahan(x, y): #input\n",
        "  a= x+y #proses\n",
        "  return ad #output\n",
        "\n",
        "  penjumlahan(1,2)  #menggunakan fungsi"
      ],
      "metadata": {
        "id": "LISSSeAC8yZ3"
      },
      "execution_count": 20,
      "outputs": []
    },
    {
      "cell_type": "code",
      "source": [
        "def penjumlahan(x,y,z=None):\n",
        "    if (z==None):\n",
        "      return x+y\n",
        "    else:\n",
        "      return x+y+z\n",
        "\n",
        "print(penjumlahan(1,2))\n",
        "print(penjumlahan(1,2,3))"
      ],
      "metadata": {
        "colab": {
          "base_uri": "https://localhost:8080/"
        },
        "id": "FPN7roGz9A95",
        "outputId": "bd9132f7-b1dc-4612-aebe-8fb34d434e51"
      },
      "execution_count": 21,
      "outputs": [
        {
          "output_type": "stream",
          "name": "stdout",
          "text": [
            "3\n",
            "6\n"
          ]
        }
      ]
    },
    {
      "cell_type": "markdown",
      "source": [
        "Menyimpan hasil fungsi dalam variabel"
      ],
      "metadata": {
        "id": "KkoWaR999EEd"
      }
    },
    {
      "cell_type": "code",
      "source": [
        "def penjumlahan(x,y):\n",
        "    return x+y\n",
        "\n",
        "a = penjumlahan\n",
        "a(1,2)"
      ],
      "metadata": {
        "colab": {
          "base_uri": "https://localhost:8080/"
        },
        "id": "CUccjWJz9F9B",
        "outputId": "32ee19d2-abc4-4514-b121-1bc549c90462"
      },
      "execution_count": 22,
      "outputs": [
        {
          "output_type": "execute_result",
          "data": {
            "text/plain": [
              "3"
            ]
          },
          "metadata": {},
          "execution_count": 22
        }
      ]
    },
    {
      "cell_type": "markdown",
      "source": [
        "**Lambda**\n",
        "\n",
        "Fungsi Lambda adalah fungsi anonim one line yang didefinisikan tanpa nama. Fungsi lambda dapat mengambil sejumlah arguments, tetapi hanya dapat memiliki satu expression. Sementara fungsi normal didefinisikan menggunakan kata kunci def, dalam Python fungsi anonim didefinisikan menggunakan kata kunci lambda.\n",
        "\n",
        "Fungsi Lambda digunakan ketika fungsi sederhana hanya digunakan sekali atau waktu yang singkat dalam kode kita. Penggunaannya yang paling umum adalah sebagai argumen untuk fungsi tingkat tinggi(fungsi yang menggunakan fungsi lain sebagai argument).\n",
        "\n",
        "Lambda expression di python adalah sebuah expression untuk membuat fungsi.\n",
        "\n",
        "Lambda sendiri berasal dari teori Kalkulus, yakni LambdaCalculus yang dikenalkan oleh Alonzo Church ditahun 1930.\n",
        "\n",
        "Berkat lambda, kita bisa membuat fungsi tanpa nama atau dikenal juga dengan anonymous function."
      ],
      "metadata": {
        "id": "-9aTmv_4zhkA"
      }
    },
    {
      "cell_type": "markdown",
      "source": [
        "Lambda bisa memiliki lebih dari satu argumen atau parameter, tapi hanya bisa memiliki satu ekspresi atau isi"
      ],
      "metadata": {
        "id": "tmHSunVr08Yb"
      }
    },
    {
      "cell_type": "code",
      "source": [
        "greeting = lambda name: print(f\"hello, {name}\")"
      ],
      "metadata": {
        "id": "HxTY544a1HOn"
      },
      "execution_count": 1,
      "outputs": []
    },
    {
      "cell_type": "markdown",
      "source": [
        "Karena fungsi lambda tidak punya nama, jadi kita butuh variabel untuk menyimpannya\n",
        "\n",
        "Nanti saat mau kita panggil, kita tinggal tuliskan saja nama variabelnya seperti:"
      ],
      "metadata": {
        "id": "xYlmp5ix1N-n"
      }
    },
    {
      "cell_type": "code",
      "source": [
        "greeting(\"Dian\")\n",
        "greeting(\"Ayu\")"
      ],
      "metadata": {
        "colab": {
          "base_uri": "https://localhost:8080/"
        },
        "id": "VrY-hyjR1bmd",
        "outputId": "a5702fbd-acbf-4cc4-d9f6-efdc2c279035"
      },
      "execution_count": 2,
      "outputs": [
        {
          "output_type": "stream",
          "name": "stdout",
          "text": [
            "hello, Dian\n",
            "hello, Ayu\n"
          ]
        }
      ]
    },
    {
      "cell_type": "markdown",
      "source": [
        "Beberapa contoh penggunaan fungsi lambda"
      ],
      "metadata": {
        "id": "EcAPU_4q1i9S"
      }
    },
    {
      "cell_type": "code",
      "source": [
        "#Fungsi Lambda untuk menambahkan angka 10 kepada argument input\n",
        "f = lambda x: x+10\n",
        "val1 = f(5)\n",
        "val2 = f(100)"
      ],
      "metadata": {
        "id": "1WUKM3vE1mXy"
      },
      "execution_count": 3,
      "outputs": []
    },
    {
      "cell_type": "code",
      "source": [
        "#Fungsi lambda untuk mengalikan dua argument input dan menampilkan hasilnya\n",
        "f = lambda x,y: x*y\n",
        "val3 = f(2,10)\n",
        "val4 = f(7,5)\n",
        "print(val3,val4)"
      ],
      "metadata": {
        "colab": {
          "base_uri": "https://localhost:8080/"
        },
        "id": "LlTNgixM13tJ",
        "outputId": "3e8b6f5b-8f87-4304-8790-86b4ace1c0b6"
      },
      "execution_count": 4,
      "outputs": [
        {
          "output_type": "stream",
          "name": "stdout",
          "text": [
            "20 35\n"
          ]
        }
      ]
    },
    {
      "cell_type": "markdown",
      "source": [
        "Anonymous Function\n",
        "\n",
        "Karena lambda adalah anonymous function, ia akan bebas menggunakan nama apa saja. Dengan kata lain, fungsi lambda bisa disimpan di variabel mana pun. Ini tentunya tidak bisa dilakukan oleh fungsi yang dibuat dengan def: Coba perhatikan ini"
      ],
      "metadata": {
        "id": "5clqEDgb2JKp"
      }
    },
    {
      "cell_type": "code",
      "source": [
        "def say_hello(nama):\n",
        "  print(f(\"hello{nama}, apa kabar?\"))\n",
        "\n",
        "ucapin = say_hello(nama)"
      ],
      "metadata": {
        "colab": {
          "base_uri": "https://localhost:8080/",
          "height": 201
        },
        "id": "pXLA6OM42sFg",
        "outputId": "1bc703e9-a4f8-4162-8f50-42f312e4101e"
      },
      "execution_count": 5,
      "outputs": [
        {
          "output_type": "error",
          "ename": "NameError",
          "evalue": "ignored",
          "traceback": [
            "\u001b[0;31m---------------------------------------------------------------------------\u001b[0m",
            "\u001b[0;31mNameError\u001b[0m                                 Traceback (most recent call last)",
            "\u001b[0;32m<ipython-input-5-0e51ea6689c3>\u001b[0m in \u001b[0;36m<cell line: 4>\u001b[0;34m()\u001b[0m\n\u001b[1;32m      2\u001b[0m   \u001b[0mprint\u001b[0m\u001b[0;34m(\u001b[0m\u001b[0mf\u001b[0m\u001b[0;34m(\u001b[0m\u001b[0;34m\"hello{nama}, apa kabar?\"\u001b[0m\u001b[0;34m)\u001b[0m\u001b[0;34m)\u001b[0m\u001b[0;34m\u001b[0m\u001b[0;34m\u001b[0m\u001b[0m\n\u001b[1;32m      3\u001b[0m \u001b[0;34m\u001b[0m\u001b[0m\n\u001b[0;32m----> 4\u001b[0;31m \u001b[0mucapin\u001b[0m \u001b[0;34m=\u001b[0m \u001b[0msay_hello\u001b[0m\u001b[0;34m(\u001b[0m\u001b[0mnama\u001b[0m\u001b[0;34m)\u001b[0m\u001b[0;34m\u001b[0m\u001b[0;34m\u001b[0m\u001b[0m\n\u001b[0m",
            "\u001b[0;31mNameError\u001b[0m: name 'nama' is not defined"
          ]
        }
      ]
    },
    {
      "cell_type": "markdown",
      "source": [
        "Saya mencoba membuat fungsi say_hello() dengan def, kemudian menyimpannya kedalam variabel ucapin. Tapi malah eror.\n",
        "\n",
        "Ini karena fungsi tersebut bukanlah fungsi anonymous yang boleh diubah ubah namnya.\n",
        "\n",
        "Lalu coba perhatikan dibaris terakhir, fungsi lambda greeting() yang sudah disimpan lagi ke variabel yang berbeda, yakni sapa."
      ],
      "metadata": {
        "id": "CTiCfGOa23_W"
      }
    },
    {
      "cell_type": "code",
      "source": [
        "greeting = lambda name: print(f\"hello, {name}\")\n",
        "sapa = greeting\n",
        "greeting(\"Andi\")\n",
        "greeting(\"Neli\")"
      ],
      "metadata": {
        "colab": {
          "base_uri": "https://localhost:8080/"
        },
        "id": "5DRJtvHQ3d9n",
        "outputId": "8f931253-37ed-4566-98b8-bba531ea3f0e"
      },
      "execution_count": 7,
      "outputs": [
        {
          "output_type": "stream",
          "name": "stdout",
          "text": [
            "hello, Andi\n",
            "hello, Neli\n"
          ]
        }
      ]
    },
    {
      "cell_type": "markdown",
      "source": [
        "Hasilnya tidak error, karena ini adalah fungsi anonymous atau lambda"
      ],
      "metadata": {
        "id": "wsTLYnYO3y_b"
      }
    },
    {
      "cell_type": "markdown",
      "source": [
        "**Eksekusi Lambda Secara Langsung**\n",
        "\n",
        "Eksekusi lambda secara langsung kelebihan fungsi dibandingkan def adalah bisa kita ekseksi langsung.\n",
        "\n",
        "contohnya."
      ],
      "metadata": {
        "id": "PNKw-Dd-4B_W"
      }
    },
    {
      "cell_type": "code",
      "source": [
        "(lambda x,y: x**2 + y**2)(4,6)"
      ],
      "metadata": {
        "colab": {
          "base_uri": "https://localhost:8080/"
        },
        "id": "g16lVeQC4RlR",
        "outputId": "bbe0d804-8827-4654-b985-624a8509d13f"
      },
      "execution_count": 8,
      "outputs": [
        {
          "output_type": "execute_result",
          "data": {
            "text/plain": [
              "52"
            ]
          },
          "metadata": {},
          "execution_count": 8
        }
      ]
    },
    {
      "cell_type": "markdown",
      "source": [
        "Tanda kurung tersebut mengapit fungsi lambda artinya akan langsung mengeksekusi fungsi tersebut.\n",
        "\n",
        "Lalu kurung berikutnya akan berisi parameter.\n",
        "\n",
        "Angka 4 dan 6 adalah parameter x dan y yang akan diberikan kepada fungsi lambda.\n",
        "\n",
        "Maka kita akan langsung medapatkan hasilnya, yakni 42+62 = 52\n",
        "\n",
        "Hasilnya dari eksekusi ini bisa juga kita simpan kedalam variabel"
      ],
      "metadata": {
        "id": "-Vf4sZyx4Zfw"
      }
    },
    {
      "cell_type": "code",
      "source": [
        "hasil = (lambda x,y: x**2 + y**2)(4,6)"
      ],
      "metadata": {
        "id": "I5gUdARS456g"
      },
      "execution_count": 10,
      "outputs": []
    },
    {
      "cell_type": "markdown",
      "source": [
        "**Mengapa Harus Lambda**\n",
        "\n",
        "Kita memang tidak harus menggunakan Lambda, tapi dalam kasusu tertentu lambda lebih baik dibandingkan fungsi biasa.\n",
        "\n",
        "Lambda biasanya dibutuhkan saat kita ingin membuat fungsi dalam satu baris.\n",
        "\n",
        "Biasanya saat menggunakan fungsi-fungsi seperti filter(), map(), dan reduce() kita akan membutuhkan lambda.\n",
        "\n",
        "Mengapa?\n",
        "\n",
        "Karena di fungsi tersebut membutuhkan parameter fungsi.\n",
        "\n",
        "Contohnya"
      ],
      "metadata": {
        "id": "8j02lEew5Bsj"
      }
    },
    {
      "cell_type": "code",
      "source": [
        "bilangan = [10, 2, 8, 7, 5, 4, 3, 11, 0, 1]\n",
        "filtered_result = map (lambda x: x*x, bilangan)\n",
        "print(list(filtered_result))"
      ],
      "metadata": {
        "colab": {
          "base_uri": "https://localhost:8080/"
        },
        "id": "6APQcRf75kLh",
        "outputId": "b3c0f095-9790-4f8c-8c6f-3e8734e8df34"
      },
      "execution_count": 11,
      "outputs": [
        {
          "output_type": "stream",
          "name": "stdout",
          "text": [
            "[100, 4, 64, 49, 25, 16, 9, 121, 0, 1]\n"
          ]
        }
      ]
    },
    {
      "cell_type": "markdown",
      "source": [
        "Pada fungsi map() kita memberikan parameter dengan fungsi lambda.\n",
        "\n",
        "Mengapa bisa begitu?\n",
        "\n",
        "Karena lambda bisa disimpan kedalam variabel, otomatis dia akan bisa juga jadi parameter.\n",
        "\n",
        "Satu lagi contoh dengan fungsi filter()"
      ],
      "metadata": {
        "id": "8KCg8GoP6Mg_"
      }
    },
    {
      "cell_type": "code",
      "source": [
        "#menetukan bilangan genap\n",
        "genap= lambda x: x%2 == 0\n",
        "list(filter(genap, range(11)))"
      ],
      "metadata": {
        "colab": {
          "base_uri": "https://localhost:8080/"
        },
        "id": "TBIQm-4y6g2v",
        "outputId": "f89f6baa-55e4-40b2-db6e-07d313c118dd"
      },
      "execution_count": 12,
      "outputs": [
        {
          "output_type": "execute_result",
          "data": {
            "text/plain": [
              "[0, 2, 4, 6, 8, 10]"
            ]
          },
          "metadata": {},
          "execution_count": 12
        }
      ]
    },
    {
      "cell_type": "markdown",
      "source": [
        "***LATIHAN***\n",
        "\n",
        "1. Buatlah fungsi lambda untuk menghitung luas persegi panjang\n",
        "2. Buatlah fungsi lambda untuk menghitung luas dari segitiga"
      ],
      "metadata": {
        "id": "1SxOwPPC6tp0"
      }
    },
    {
      "cell_type": "code",
      "source": [
        "#Luas persegi panjang\n",
        "Luas_persegi_panjang = lambda panjang, lebar: panjang*lebar\n",
        "L = Luas_persegi_panjang(2,3)\n",
        "print(L)"
      ],
      "metadata": {
        "colab": {
          "base_uri": "https://localhost:8080/"
        },
        "id": "GNZXXw_x6vlq",
        "outputId": "1699fc08-95ec-4448-a02c-0ea0b5477bbf"
      },
      "execution_count": 24,
      "outputs": [
        {
          "output_type": "stream",
          "name": "stdout",
          "text": [
            "6\n"
          ]
        }
      ]
    },
    {
      "cell_type": "code",
      "source": [
        "Luas_Persegi_Panjang = (lambda panjang, lebar: panjang*lebar)(2,3)\n",
        "Luas_Persegi_Panjang"
      ],
      "metadata": {
        "colab": {
          "base_uri": "https://localhost:8080/"
        },
        "id": "UEV2qm2R-YII",
        "outputId": "fc93e941-8922-4324-d97e-a2ecf2acfc39"
      },
      "execution_count": 26,
      "outputs": [
        {
          "output_type": "execute_result",
          "data": {
            "text/plain": [
              "6"
            ]
          },
          "metadata": {},
          "execution_count": 26
        }
      ]
    },
    {
      "cell_type": "code",
      "source": [
        "#Luas Segitiga\n",
        "Luas_Segitiga = lambda alas, tinggi: alas*tinggi\n",
        "L = Luas_Segitiga (2,3)\n",
        "print(L)"
      ],
      "metadata": {
        "colab": {
          "base_uri": "https://localhost:8080/"
        },
        "id": "V-0ylHsH-mGD",
        "outputId": "619d9358-5a84-48b9-e034-82d9092a6c99"
      },
      "execution_count": 27,
      "outputs": [
        {
          "output_type": "stream",
          "name": "stdout",
          "text": [
            "6\n"
          ]
        }
      ]
    },
    {
      "cell_type": "code",
      "source": [
        "Luas_Segitiga = (lambda alas, tinggi: alas*tinggi)(2,3)\n",
        "Luas_Segitiga"
      ],
      "metadata": {
        "colab": {
          "base_uri": "https://localhost:8080/"
        },
        "id": "IvR3D7Fy-2Ut",
        "outputId": "3eb8daab-b1b7-4711-b2b0-413d49ea032c"
      },
      "execution_count": 28,
      "outputs": [
        {
          "output_type": "execute_result",
          "data": {
            "text/plain": [
              "6"
            ]
          },
          "metadata": {},
          "execution_count": 28
        }
      ]
    }
  ]
}