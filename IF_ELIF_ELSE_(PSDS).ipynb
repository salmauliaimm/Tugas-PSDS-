{
  "nbformat": 4,
  "nbformat_minor": 0,
  "metadata": {
    "colab": {
      "provenance": []
    },
    "kernelspec": {
      "name": "python3",
      "display_name": "Python 3"
    },
    "language_info": {
      "name": "python"
    }
  },
  "cells": [
    {
      "cell_type": "code",
      "execution_count": null,
      "metadata": {
        "id": "3z39VIle1yTP"
      },
      "outputs": [],
      "source": []
    },
    {
      "cell_type": "markdown",
      "source": [
        "Percabangan?Struktur Pemilihan\n",
        "\n",
        "Pada bagian ini, kamu akan memebuat keputussan pada bahasa pemrograman python menggunakan struktur percabangan atau juga sering disebut IF ELSE Statement. Pengambilan keputusan dibutuhkan ketika kamu akan mengeksekusi suatu kode jika sebuah kondisi tertentu dipenuhi.\n",
        "\n",
        "Statement if .. elif ... else digunakan pada bahasa python untuk pengambilan keputusan.\n",
        "\n"
      ],
      "metadata": {
        "id": "TyEERX_H1y2Y"
      }
    },
    {
      "cell_type": "code",
      "source": [
        "if test expression:\n",
        "  statement(s)"
      ],
      "metadata": {
        "colab": {
          "base_uri": "https://localhost:8080/",
          "height": 131
        },
        "id": "n0Zwfg4n2nPZ",
        "outputId": "e65558b0-1f70-42ee-e0de-d75f6c62c634"
      },
      "execution_count": null,
      "outputs": [
        {
          "output_type": "error",
          "ename": "SyntaxError",
          "evalue": "ignored",
          "traceback": [
            "\u001b[0;36m  File \u001b[0;32m\"<ipython-input-3-7644d7621fa9>\"\u001b[0;36m, line \u001b[0;32m1\u001b[0m\n\u001b[0;31m    if test expression:\u001b[0m\n\u001b[0m            ^\u001b[0m\n\u001b[0;31mSyntaxError\u001b[0m\u001b[0;31m:\u001b[0m invalid syntax\n"
          ]
        }
      ]
    },
    {
      "cell_type": "code",
      "source": [
        "#Jika angka adalah bilangan positif maka print \"adalah bilangan positif\n",
        "\n",
        "angka = 3\n",
        "if angka > 0:\n",
        "    print(angka, \"adalah bilangan positif.\")\n",
        "print(\"Pernyataan ini selalu ditampilkan.\")\n",
        "\n",
        "angka = -1\n",
        "if angka > 0:\n",
        "    print(angka, \"ini adalah bilangan positif.\")\n",
        "print(\"Pernyataan ini juga selalu ditampilkan.\")"
      ],
      "metadata": {
        "colab": {
          "base_uri": "https://localhost:8080/"
        },
        "id": "7NTQS8RG2wSi",
        "outputId": "3f7d8cac-8857-4e14-87d7-a4bc25d8f2c9"
      },
      "execution_count": null,
      "outputs": [
        {
          "output_type": "stream",
          "name": "stdout",
          "text": [
            "3 adalah bilangan positif.\n",
            "Pernyataan ini selalu ditampilkan.\n",
            "Pernyataan ini juga selalu ditampilkan.\n"
          ]
        }
      ]
    },
    {
      "cell_type": "markdown",
      "source": [
        "IF ELSE Statement\n",
        " Python IF ELSE Statement Syntak\n",
        "\n",
        " if test expression:\n",
        "      Body of if\n",
        "else\n",
        "      Body of else"
      ],
      "metadata": {
        "id": "I35PDisG4MTb"
      }
    },
    {
      "cell_type": "code",
      "source": [
        "#Program disusun untuk mengecek apakah angka tersebut kurang dari 0 atau tidak\n",
        "#dan menampilkan tulisan yang sesuai\n",
        "\n",
        "angka = 3\n",
        "\n",
        "if angka >= 0:\n",
        "    print(\"Bilangan lebih dari atau samadengan 0\")\n",
        "else:\n",
        "    print(\"Bilangan kurang dari 0\")"
      ],
      "metadata": {
        "colab": {
          "base_uri": "https://localhost:8080/"
        },
        "id": "6dKINLWg4g9u",
        "outputId": "63540021-dcf6-4468-80fc-4f027f3d58b0"
      },
      "execution_count": null,
      "outputs": [
        {
          "output_type": "stream",
          "name": "stdout",
          "text": [
            "Bilangan lebih dari atau samadengan 0\n"
          ]
        }
      ]
    },
    {
      "cell_type": "code",
      "source": [
        "#Pemrograman disusun untuk mengecek apakah dua buah angka sama atau tidak\n",
        "#dan menampilkan tulisan yang sesuai\n",
        "\n",
        "a = 5\n",
        "b = 5\n",
        "\n",
        "if a==b:\n",
        "    print(\"a dan b bernilai sama\")\n",
        "else:\n",
        "    print(\"a dan b bernilai berbeda\")\n",
        "    print(\"Belajar If Else\")"
      ],
      "metadata": {
        "colab": {
          "base_uri": "https://localhost:8080/"
        },
        "id": "cDAHTLTr4jDL",
        "outputId": "4bc2212c-1fb9-4b1d-fc16-c9c91b251b0f"
      },
      "execution_count": null,
      "outputs": [
        {
          "output_type": "stream",
          "name": "stdout",
          "text": [
            "a dan b bernilai sama\n"
          ]
        }
      ]
    },
    {
      "cell_type": "code",
      "source": [
        "#Program disusun untuk mengecek apakah perbandingan dua buah angka\n",
        "#dan menampilkan tulisan yang sesuai\n",
        "\n",
        "#membaca dua angka\n",
        "bil1 = int(input(\"Masukkan bilangan pertama:\"))\n",
        "bil2 = int(input(\"Masukkan bilangan kedua:\"))\n",
        "\n",
        "#memilih bilangan yang lebih besar\n",
        "if bil1>bil2:\n",
        "    bil_lebih_besar = bil1\n",
        "else:\n",
        "    bil_lebih_besar = bil2\n",
        "\n",
        "#menampilkan hasil\n",
        "print(\"Bilangan yang lebih besar adalah:\", bil_lebih_besar)"
      ],
      "metadata": {
        "colab": {
          "base_uri": "https://localhost:8080/"
        },
        "id": "VVP1Wz_x6JiY",
        "outputId": "763196c9-48d6-495f-cd14-abd7ceb3819a"
      },
      "execution_count": null,
      "outputs": [
        {
          "output_type": "stream",
          "name": "stdout",
          "text": [
            "Masukkan bilangan pertama:3\n",
            "Masukkan bilangan kedua:5\n",
            "Bilangan yang lebih besar adalah: 5\n"
          ]
        }
      ]
    },
    {
      "cell_type": "markdown",
      "source": [
        "IF ELIF ELSE"
      ],
      "metadata": {
        "id": "8WOCEve_7Yaa"
      }
    },
    {
      "cell_type": "code",
      "source": [
        "#Program disusun untuk mengecek apakah angka merupakn bilangan positif, negatif atau nol\n",
        "#dan menampilkan tulisan yang sesuai\n",
        "\n",
        "angka = 3.4\n",
        "\n",
        "if angka > 0:\n",
        "    print(\"Bilangan positif\")\n",
        "elif num == 0:\n",
        "    print(\"Nol\")\n",
        "else:\n",
        "    print(\"Bilangan Negatif\")"
      ],
      "metadata": {
        "colab": {
          "base_uri": "https://localhost:8080/"
        },
        "id": "BTvDIsgy7a_N",
        "outputId": "633c737f-7f9c-4c01-99dd-672a5ee48200"
      },
      "execution_count": null,
      "outputs": [
        {
          "output_type": "stream",
          "name": "stdout",
          "text": [
            "Bilangan positif\n"
          ]
        }
      ]
    },
    {
      "cell_type": "code",
      "source": [
        "#Statement if\n",
        "x = 4\n",
        "if x % 2 == 0: #jika x dibagi 2 sisanya samadengan 0\n",
        "    print(\"x habis dibagi dua\")\n",
        "\n",
        "#Statement if ... elif ... else\n",
        "x = 7\n",
        "if x % 2 == 0: #jika x dibagi 2 sisanya samadengan 0\n",
        "    print(\"x habis dibagi dua\")\n",
        "elif x % 3 == 0: #jika x dibagi 3 sisanya samadengan 0\n",
        "    print(\"x habis dibagi tiga\")\n",
        "elif x % 5 == 0: #jika x dibagi 5 sisanya samadengan 0\n",
        "    print(\"x habis dibagi 5\")\n",
        "\n",
        "else:\n",
        "    print(\"x tidak habis dibagi dua, tiga ataupun lima\")"
      ],
      "metadata": {
        "colab": {
          "base_uri": "https://localhost:8080/"
        },
        "id": "5ni863fB8Pw6",
        "outputId": "129265e7-9ad1-425b-a3bb-14d1aee15b41"
      },
      "execution_count": null,
      "outputs": [
        {
          "output_type": "stream",
          "name": "stdout",
          "text": [
            "x habis dibagi dua\n",
            "x tidak habis dibagi dua, tiga ataupun lima\n"
          ]
        }
      ]
    },
    {
      "cell_type": "code",
      "source": [
        "#Program disusun untuk mengecek apakah angka merupakan bilangan positif, negatif atau nol\n",
        "#dan menampilkan tulisan yang sesuai\n",
        "\n",
        "angka = float(input(\"Masukkan angka:\"))\n",
        "if angka >= 0:\n",
        "    if angka == 0:\n",
        "        print(\"Nol\")\n",
        "    else:\n",
        "        print(\"Bilangan Positif\")\n",
        "else:\n",
        "    print(\"Bilangan Negatif\")"
      ],
      "metadata": {
        "colab": {
          "base_uri": "https://localhost:8080/"
        },
        "id": "CJ8eoe5x9blC",
        "outputId": "68e041ec-42e8-4bf1-f180-e8ca20b88275"
      },
      "execution_count": null,
      "outputs": [
        {
          "output_type": "stream",
          "name": "stdout",
          "text": [
            "Masukkan angka:4\n",
            "Bilangan Positif\n"
          ]
        }
      ]
    },
    {
      "cell_type": "markdown",
      "source": [
        "**`LATIHAN`**\n",
        "\n",
        "Buatlah sebuah fungsi \"Mahal Diskon dengan ketentuan:\n",
        "\n",
        "\n",
        "*  Input berupa data harga produk dengan tipe data numerik tunggal\n",
        "*  Kategori input adalah \"Murah\" dan \"Mahal\", kemudian diskon ada 3 kategori \"10%\", \"20%\", dan \"40%\"\n",
        "\n",
        "*   Output pertama sebuah teks/string yang menyatakan \"Mahal\" atau \"Murah\" dan keterangan \"Kamu Dapat Diskon..\n",
        "*   Output kedua adalah harga yang perluu dibayarkan\n",
        "\n",
        "\n",
        "\n",
        "\n",
        "\n",
        "\n"
      ],
      "metadata": {
        "id": "4gDASQo2-ctU"
      }
    },
    {
      "cell_type": "code",
      "source": [
        "#Ketikan codingan anda\n",
        "harga = float(input(\"Masukkan harga:\"))\n",
        "if harga >= 50000:\n",
        "    print(\"Mahal\")\n",
        "    if harga >= 50000 and harga < 100000:\n",
        "      diskon = \"10%\"\n",
        "      harga_diskon = harga - (harga * 0.1)\n",
        "    elif harga >= 100000 and harga < 150000:\n",
        "      diskon = \"20%\"\n",
        "      harga_diskon = harga - (harga * 0.2)\n",
        "    else:\n",
        "      diskon = \"40%\"\n",
        "      harga_diskon = harga - (harga * 0.4)\n",
        "      print(\"Kamu Dapat Diskon\", diskon)\n",
        "else:\n",
        "    print(\"Murah\")\n",
        "    harga_diskon = harga\n",
        "    print(\"\")\n",
        "\n",
        "print(\"harga yang perlu dibayarkan\", harga_diskon)"
      ],
      "metadata": {
        "colab": {
          "base_uri": "https://localhost:8080/"
        },
        "id": "08TofWzN-ebh",
        "outputId": "e088a65b-619b-47ee-d213-4279cc0c010f"
      },
      "execution_count": null,
      "outputs": [
        {
          "output_type": "stream",
          "name": "stdout",
          "text": [
            "Masukkan harga:300000\n",
            "Mahal\n",
            "Kamu Dapat Diskon 40%\n",
            "harga yang perlu dibayarkan 180000.0\n"
          ]
        }
      ]
    },
    {
      "cell_type": "code",
      "source": [
        "#Ketikan codingan anda\n",
        "harga = float(input(\"Masukkan harga:\"))\n",
        "if harga >= 50000:\n",
        "    print(\"Mahal\")\n",
        "    if harga >= 50000 and harga < 100000:\n",
        "      diskon = \"10%\"\n",
        "      harga_diskon = harga - (harga * 0.1)\n",
        "    elif harga >= 100000 and harga < 150000:\n",
        "      diskon = \"20%\"\n",
        "      harga_diskon = harga - (harga * 0.2)\n",
        "    else:\n",
        "      diskon = \"40%\"\n",
        "      harga_diskon = harga - (harga * 0.4)\n",
        "      print(\"Kamu Dapat Diskon\", diskon)\n",
        "else:\n",
        "    print(\"Murah\")\n",
        "    harga_diskon = harga\n",
        "    print(\"\")\n",
        "\n",
        "print(\"harga yang perlu dibayarkan\", harga_diskon)"
      ],
      "metadata": {
        "colab": {
          "base_uri": "https://localhost:8080/"
        },
        "id": "9lKhLw7vCTJ3",
        "outputId": "093afe52-788d-48af-928a-6ac8d1f3b8dc"
      },
      "execution_count": null,
      "outputs": [
        {
          "output_type": "stream",
          "name": "stdout",
          "text": [
            "Masukkan harga:50000\n",
            "Mahal\n",
            "harga yang perlu dibayarkan 45000.0\n"
          ]
        }
      ]
    },
    {
      "cell_type": "code",
      "source": [
        "#Ketikan codingan anda\n",
        "harga = float(input(\"Masukkan harga:\"))\n",
        "if harga >= 50000:\n",
        "    print(\"Mahal\")\n",
        "    if harga >= 50000 and harga < 100000:\n",
        "      diskon = \"10%\"\n",
        "      harga_diskon = harga - (harga * 0.1)\n",
        "    elif harga >= 100000 and harga < 150000:\n",
        "      diskon = \"20%\"\n",
        "      harga_diskon = harga - (harga * 0.2)\n",
        "    else:\n",
        "      diskon = \"40%\"\n",
        "      harga_diskon = harga - (harga * 0.4)\n",
        "      print(\"Kamu Dapat Diskon\", diskon)\n",
        "else:\n",
        "    print(\"Murah\")\n",
        "    harga_diskon = harga\n",
        "    print(\"\")\n",
        "\n",
        "print(\"harga yang perlu dibayarkan\", harga_diskon)"
      ],
      "metadata": {
        "colab": {
          "base_uri": "https://localhost:8080/"
        },
        "id": "Fp6XMhVLChek",
        "outputId": "c5581baf-7f13-40b6-e8e1-1b9cc4f50f5d"
      },
      "execution_count": null,
      "outputs": [
        {
          "output_type": "stream",
          "name": "stdout",
          "text": [
            "Masukkan harga:40000\n",
            "Murah\n",
            "\n",
            "harga yang perlu dibayarkan 40000.0\n"
          ]
        }
      ]
    }
  ]
}