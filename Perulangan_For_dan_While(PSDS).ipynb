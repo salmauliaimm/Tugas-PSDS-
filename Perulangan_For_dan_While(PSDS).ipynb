{
  "nbformat": 4,
  "nbformat_minor": 0,
  "metadata": {
    "colab": {
      "provenance": []
    },
    "kernelspec": {
      "name": "python3",
      "display_name": "Python 3"
    },
    "language_info": {
      "name": "python"
    }
  },
  "cells": [
    {
      "cell_type": "code",
      "execution_count": null,
      "metadata": {
        "id": "nLYAM--4AqJ-"
      },
      "outputs": [],
      "source": []
    },
    {
      "cell_type": "markdown",
      "source": [
        "**Looping/Perulangan**\n",
        "\n",
        "Python menyediakan dua statement untuk melakukan proses perulangan yaitu for dan while. Diantara kedua statement ini, secara umum for lebih banyak digunakan daripada while.\n"
      ],
      "metadata": {
        "id": "HM-jdekBCAmU"
      }
    },
    {
      "cell_type": "markdown",
      "source": [
        "For Loop\n",
        "Perulangan for digunakan untuk melakukan iterasi didalam sequence seperti list, tuple, string, dan array atau objek yang dapat diiterasi lainnya."
      ],
      "metadata": {
        "id": "XKgpDHD_CX_X"
      }
    },
    {
      "cell_type": "code",
      "source": [
        "#Program untuk menghitung jumlah semua angka dalam sebuah list\n",
        "L1 = [2, 4, 5, 7, 9]\n",
        "jumlah = 0\n",
        "\n",
        "#iterasi dalam list\n",
        "for i in L1:\n",
        "  jumlah = jumlah + i\n",
        "\n",
        "print(jumlah)"
      ],
      "metadata": {
        "colab": {
          "base_uri": "https://localhost:8080/"
        },
        "id": "SkHH1VmlC0JY",
        "outputId": "a96a8681-0f90-49bf-a8dc-15f9399266c8"
      },
      "execution_count": null,
      "outputs": [
        {
          "output_type": "stream",
          "name": "stdout",
          "text": [
            "27\n"
          ]
        }
      ]
    },
    {
      "cell_type": "markdown",
      "source": [
        "The Range()function"
      ],
      "metadata": {
        "id": "_qzVqVcDGH9a"
      }
    },
    {
      "cell_type": "code",
      "source": [
        "#Program untuk melakukan iterasi didalam list melalui indeks\n",
        "minuman = [\"teh\", \"boba\", \"kopi\", \"susu\"]\n",
        "p = len(minuman)\n",
        "\n",
        "#iterasi didalam list melalui indeks\n",
        "for i in range(p):\n",
        "  print(minuman[i])"
      ],
      "metadata": {
        "colab": {
          "base_uri": "https://localhost:8080/"
        },
        "id": "N5IzAKk0GPJM",
        "outputId": "171ea02f-5b1e-4852-8947-9938937a54e1"
      },
      "execution_count": null,
      "outputs": [
        {
          "output_type": "stream",
          "name": "stdout",
          "text": [
            "teh\n",
            "boba\n",
            "kopi\n",
            "susu\n"
          ]
        }
      ]
    },
    {
      "cell_type": "markdown",
      "source": [
        "For Loop with else"
      ],
      "metadata": {
        "id": "EvkjqySZG8O8"
      }
    },
    {
      "cell_type": "code",
      "source": [
        "#contoh for loop menggunakan else\n",
        "for i in range(p):\n",
        "  print(minuman[i])\n",
        "else:\n",
        "  print(\"Elemen sudah habis\")"
      ],
      "metadata": {
        "colab": {
          "base_uri": "https://localhost:8080/"
        },
        "id": "F1SNIquQG_6i",
        "outputId": "919657d5-6a59-4ae8-a20f-b71bf218b145"
      },
      "execution_count": null,
      "outputs": [
        {
          "output_type": "stream",
          "name": "stdout",
          "text": [
            "teh\n",
            "boba\n",
            "kopi\n",
            "susu\n",
            "Elemen sudah habis\n"
          ]
        }
      ]
    },
    {
      "cell_type": "markdown",
      "source": [
        "**LATIHAN**"
      ],
      "metadata": {
        "id": "X0O0muvkHkG9"
      }
    },
    {
      "cell_type": "code",
      "source": [
        "list_tagihan = [50000, 75000, -150000, 125000, 300000, -50000, 200000]\n",
        "total_tagihan = 0\n",
        "\n",
        "#iterasi di dalam list\n",
        "for i in list_tagihan:\n",
        "  total_tagihan = total_tagihan + i\n",
        "\n",
        "print(\"total_tagihan:\", total_tagihan)\n"
      ],
      "metadata": {
        "colab": {
          "base_uri": "https://localhost:8080/"
        },
        "id": "ZJ0Uk3k0HlLL",
        "outputId": "bcc55283-9d30-473d-8ab0-707c904114ed"
      },
      "execution_count": null,
      "outputs": [
        {
          "output_type": "stream",
          "name": "stdout",
          "text": [
            "total_tagihan: 550000\n"
          ]
        }
      ]
    },
    {
      "cell_type": "markdown",
      "source": [
        "While Loop\n",
        "\n",
        "While loop pada python digunakan untuk melakukan iterasi pada blok kode selama nilai dari test expression adalah true.\n"
      ],
      "metadata": {
        "id": "OBUHydc8JKfe"
      }
    },
    {
      "cell_type": "code",
      "source": [
        "#Program untuk menjumlahkan semua\n",
        "#bilangan asli hingga suku ke-n\n",
        "#jum = 1+2+3+...+n\n",
        "\n",
        "n = 10\n",
        "jumlah = 0\n",
        "i = 1\n",
        "\n",
        "while i <= n:\n",
        "  jumlah = jumlah + i\n",
        "  i = i +1\n",
        "\n",
        "print(jumlah)"
      ],
      "metadata": {
        "colab": {
          "base_uri": "https://localhost:8080/"
        },
        "id": "OdHBwsnvJdgU",
        "outputId": "67bada80-b430-4b2b-add0-8f09927ee5fd"
      },
      "execution_count": null,
      "outputs": [
        {
          "output_type": "stream",
          "name": "stdout",
          "text": [
            "55\n"
          ]
        }
      ]
    },
    {
      "cell_type": "markdown",
      "source": [
        "While Loop with else\n",
        "\n",
        "Sama dengan for loop kita juga dapat mengkombinasikan while dengan blok else.\n",
        "Bagian else akan dieksekusi jika nilai pada test expression pada while loop bernilai False."
      ],
      "metadata": {
        "id": "UqaS4s2QJ7ub"
      }
    },
    {
      "cell_type": "code",
      "source": [
        "jum = 0\n",
        "i = 1\n",
        "while i <= n:\n",
        "  jum = jum + i\n",
        "  i = i + 1\n",
        "else:\n",
        "  print(jum) #dieksekusi diluar looping"
      ],
      "metadata": {
        "colab": {
          "base_uri": "https://localhost:8080/"
        },
        "id": "uNfzLeQwKWF1",
        "outputId": "2d6a73d2-8c86-4705-c833-a4ac6fc0c372"
      },
      "execution_count": null,
      "outputs": [
        {
          "output_type": "stream",
          "name": "stdout",
          "text": [
            "55\n"
          ]
        }
      ]
    },
    {
      "cell_type": "markdown",
      "source": [
        "LATIHAN"
      ],
      "metadata": {
        "id": "4R4lc3SyK400"
      }
    },
    {
      "cell_type": "code",
      "source": [
        "tagihan = [50000, 75000, 125000, 300000, 200000]\n",
        "total_tagihan = 0\n",
        "i = 0\n",
        "while i < len(tagihan):\n",
        "  total_tagihan = total_tagihan + tagihan[i]\n",
        "  i = i + 1\n",
        "\n",
        "print(\"Total tagihan:\", total_tagihan)\n",
        "\n",
        "\n"
      ],
      "metadata": {
        "id": "ZYFC3elnK6Fw",
        "colab": {
          "base_uri": "https://localhost:8080/"
        },
        "outputId": "98986c9d-818b-447d-8a28-eadcd2fb0469"
      },
      "execution_count": 4,
      "outputs": [
        {
          "output_type": "stream",
          "name": "stdout",
          "text": [
            "Total tagihan: 750000\n"
          ]
        }
      ]
    }
  ]
}